{
 "cells": [
  {
   "cell_type": "markdown",
   "id": "cooked-mustang",
   "metadata": {},
   "source": [
    "# Headings\n",
    "Use #s followed by a blank space for notebook titles and section headings:\n",
    "\n",
    "# Heading 1\n",
    "## Heading 2\n",
    "### Heading 3\n",
    "#### Heading 4"
   ]
  },
  {
   "cell_type": "markdown",
   "id": "random-cambridge",
   "metadata": {},
   "source": [
    "# Literals/Escape\n",
    "You can use backslash to generate literal characters which would otherwise have special meaning in the Markdown syntax.\n",
    "\n",
    "\\*literal asterisks\\*\n",
    "\n",
    "Use double backslash to generate the literal symbol. \n",
    "\n",
    "\\\\$"
   ]
  },
  {
   "cell_type": "markdown",
   "id": "surgical-sucking",
   "metadata": {},
   "source": [
    "# Emphasis\n",
    "\n",
    "### Bold: \n",
    "\n",
    "\\__string__ or \\**string**\n",
    "\n",
    "__string__ or **string** \n",
    "\n",
    "### Italic: \n",
    "\n",
    "\\_string_ or \\*string*\n",
    "\n",
    "_string_ or *string*\n",
    "\n",
    "### Strikethrough: \n",
    "\n",
    "\\~string~\n",
    "\n",
    "~string~"
   ]
  },
  {
   "cell_type": "markdown",
   "id": "absent-vinyl",
   "metadata": {},
   "source": [
    "# Mathematical Symbols and Equations\n",
    "\n",
    "\\\\begin{equation}\n",
    "\n",
    "equation goes here\n",
    "\n",
    "\\\\end{equation}\n",
    "\n",
    "e.g.\n",
    "\n",
    "\\begin{equation}\n",
    "e^x=\\sum_{i=0}^\\infty \\frac{1}{i!}x^i\n",
    "\\end{equation}\n",
    "\n",
    "<br>$\\triangledown$\n",
    "<br>$\\beta$\n",
    "<br>$e^{i\\pi} + 1 = 0$\n",
    "<br>$\\hat{x}$ \n",
    "<br>$\\tilde{x}$\n",
    "<br>$\\vec{x}$\n",
    "<br>$\\approx$\n",
    "<br>$\\sim$\n",
    "<br>$\\propto$\n",
    "<br>$\\le$\n",
    "<br>$\\ge$\n",
    "<br>$\\pm$\n",
    "<br>$\\in$\n",
    "<br>$\\ln$\n",
    "<br>$\\exp$\n",
    "<br>$\\prod_{i\\in D}$\n",
    "<br>$\\sum_{i\\in D}$\n",
    "<br>$\\frac{\\partial f}{\\partial x}$\n",
    "<br>$\\sqrt{x}$\n",
    "<br>$\\bar{x}$\n",
    "<br>$\\hat{x}$\n",
    "<br>$\\langle x \\rangle$\n",
    "<br>$\\left\\langle \\frac{x}{y} \\right\\rangle$\n",
    "<br>$\\mathbb{R}$\n",
    "<br>$\\eta$\n",
    "<br>$\\frac{1}{n}$\n",
    "<br>$\\sqrt{a}$\n",
    "<br>$\\ldots$\n",
    "<br>$\\phi$\n",
    "<br>$\\pi$\n",
    "<br>$\\infty$"
   ]
  },
  {
   "cell_type": "markdown",
   "id": "neural-polymer",
   "metadata": {},
   "source": [
    "# Embedded Code\n",
    "Use \\<code> and \\</code> around a code block\n",
    "<code>\n",
    "def f(x):\n",
    "    \"\"\"a docstring\"\"\"\n",
    "    return x**2\n",
    "</code>"
   ]
  },
  {
   "cell_type": "markdown",
   "id": "worst-opera",
   "metadata": {},
   "source": [
    "# Superscript and Subscript\n",
    "Latex subscript:\n",
    "\n",
    "$x_{2}$\n",
    "\n",
    "Latex superscript:\n",
    "\n",
    "$x^{2}$"
   ]
  },
  {
   "cell_type": "markdown",
   "id": "sharing-bubble",
   "metadata": {},
   "source": [
    "# Monospace font\n",
    "Surround text with a single or double back quotation mark. \n",
    "\n",
    "``max_iter``\n",
    "\n",
    "`max_iter`\n",
    "\n",
    "Use monospace for file path and file names and for text users enter or message text users see."
   ]
  },
  {
   "cell_type": "markdown",
   "id": "familiar-conviction",
   "metadata": {},
   "source": [
    "# Line breaks\n",
    "Sometimes markdown doesn’t make line breaks when you want them. <br>Use 2 spaces or this code for a manual line break: \n",
    "<br> \"\\<br>\""
   ]
  },
  {
   "cell_type": "markdown",
   "id": "stuffed-parcel",
   "metadata": {},
   "source": [
    "# Colors\n",
    "Use this code: <font color=blue|red|green|pink|yellow>Text</font> \n",
    "\n",
    "Not all markdown code works within a font tag, so review your colored text carefully!"
   ]
  },
  {
   "cell_type": "markdown",
   "id": "lucky-statement",
   "metadata": {},
   "source": [
    "# Indented quoting\n",
    "Use a greater than sign (>) and then a space, then type the text. The text is indented and has a gray horizontal line to the left of it until the next carriage return.\n",
    "\n",
    "> text goes here"
   ]
  },
  {
   "cell_type": "markdown",
   "id": "radio-enemy",
   "metadata": {},
   "source": [
    "# Bullets\n",
    "Use the dash sign (- ) with a space after it, or a space, a dash, and a space ( - ), to create a circular bullet. To create a sub bullet, use a tab followed a dash and a space. You can also use an asterisk instead of a dash, and it works the same.\n",
    "\n",
    "- this works\n",
    "* this also works"
   ]
  },
  {
   "cell_type": "markdown",
   "id": "small-piano",
   "metadata": {},
   "source": [
    "# Numbered lists\n",
    "Start with 1. followed by a space, then it starts numbering for you. Start each line with some number and a period, then a space. Tab to indent to get subnumbering.\n",
    "\n",
    "1. first item\n",
    "1. second item\n",
    "1. third item\n",
    "    1. sub item\n",
    "    1. another sub item\n",
    "1. fourth item"
   ]
  },
  {
   "cell_type": "markdown",
   "id": "organized-breathing",
   "metadata": {},
   "source": [
    "# Graphics\n",
    "You can attach image files directly to a notebook only in Markdown cells. Drag and drop your images to the Markdown cell to attach it to the notebook. To add images to other cell types, you can use only graphics that are hosted on the web. You can’t add captions for graphics at this time. \n",
    "\n",
    "Use this code: <img src=\"url.gif\" alt=\"Alt text that describes the graphic\" title=\"Title text\" />"
   ]
  },
  {
   "cell_type": "markdown",
   "id": "brief-found",
   "metadata": {},
   "source": [
    "# Geometric shapes\n",
    "Use this code with a decimal or hex reference number from here: UTF-8 Geometric shapes\n",
    "&#reference_number;"
   ]
  },
  {
   "cell_type": "markdown",
   "id": "rational-commander",
   "metadata": {},
   "source": [
    "# Horizontal lines \n",
    "Use three asterisks: ***\n",
    "***"
   ]
  },
  {
   "cell_type": "markdown",
   "id": "traditional-participant",
   "metadata": {},
   "source": [
    "# Internal links \n",
    "To link to a heading, use this code: [heading title](#heading-title) For the text in the parentheses, replace spaces and special characters with a hyphen. Make sure to test all the links!\n",
    "Alternatively, you can add an ID for a heading right above the title. Use this code: <a id=\"heading_ID\"></a> Make sure that the heading_ID is unique within the notebook.\n",
    "Use this code for the link and make sure to test all the links! [heading title](#heading_ID)"
   ]
  },
  {
   "cell_type": "markdown",
   "id": "right-compiler",
   "metadata": {},
   "source": [
    "# External links\n",
    "Use this code and test all links! [link text](http://url)"
   ]
  }
 ],
 "metadata": {
  "kernelspec": {
   "display_name": "Python 3",
   "language": "python",
   "name": "python3"
  },
  "language_info": {
   "codemirror_mode": {
    "name": "ipython",
    "version": 3
   },
   "file_extension": ".py",
   "mimetype": "text/x-python",
   "name": "python",
   "nbconvert_exporter": "python",
   "pygments_lexer": "ipython3",
   "version": "3.8.5"
  }
 },
 "nbformat": 4,
 "nbformat_minor": 5
}
